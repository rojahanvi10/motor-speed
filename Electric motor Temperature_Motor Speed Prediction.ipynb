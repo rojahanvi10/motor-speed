{
 "cells": [
  {
   "cell_type": "code",
   "execution_count": 1,
   "id": "30644ed9",
   "metadata": {},
   "outputs": [],
   "source": [
    "import pandas as pd\n",
    "import numpy as np\n",
    "import matplotlib.pyplot as plt\n",
    "import seaborn as sns\n",
    "from sklearn.preprocessing import StandardScaler\n",
    "from sklearn.model_selection import train_test_split\n",
    "from sklearn.linear_model import LinearRegression\n",
    "\n",
    "\n",
    "\n",
    "import warnings\n",
    "warnings.simplefilter(\"ignore\")"
   ]
  },
  {
   "cell_type": "code",
   "execution_count": 2,
   "id": "2795b8fc",
   "metadata": {},
   "outputs": [],
   "source": [
    "data=pd.read_csv(r\"D:\\ExcelR Data Science\\Project\\temperature_data.csv\")"
   ]
  },
  {
   "cell_type": "code",
   "execution_count": 3,
   "id": "590c2cb4",
   "metadata": {},
   "outputs": [
    {
     "data": {
      "text/html": [
       "<div>\n",
       "<style scoped>\n",
       "    .dataframe tbody tr th:only-of-type {\n",
       "        vertical-align: middle;\n",
       "    }\n",
       "\n",
       "    .dataframe tbody tr th {\n",
       "        vertical-align: top;\n",
       "    }\n",
       "\n",
       "    .dataframe thead th {\n",
       "        text-align: right;\n",
       "    }\n",
       "</style>\n",
       "<table border=\"1\" class=\"dataframe\">\n",
       "  <thead>\n",
       "    <tr style=\"text-align: right;\">\n",
       "      <th></th>\n",
       "      <th>ambient</th>\n",
       "      <th>coolant</th>\n",
       "      <th>u_d</th>\n",
       "      <th>u_q</th>\n",
       "      <th>motor_speed</th>\n",
       "      <th>torque</th>\n",
       "      <th>i_d</th>\n",
       "      <th>i_q</th>\n",
       "      <th>pm</th>\n",
       "      <th>stator_yoke</th>\n",
       "      <th>stator_tooth</th>\n",
       "      <th>stator_winding</th>\n",
       "      <th>profile_id</th>\n",
       "    </tr>\n",
       "  </thead>\n",
       "  <tbody>\n",
       "    <tr>\n",
       "      <th>0</th>\n",
       "      <td>-0.752143</td>\n",
       "      <td>-1.118446</td>\n",
       "      <td>0.327935</td>\n",
       "      <td>-1.297858</td>\n",
       "      <td>-1.222428</td>\n",
       "      <td>-0.250182</td>\n",
       "      <td>1.029572</td>\n",
       "      <td>-0.245860</td>\n",
       "      <td>-2.522071</td>\n",
       "      <td>-1.831422</td>\n",
       "      <td>-2.066143</td>\n",
       "      <td>-2.018033</td>\n",
       "      <td>4</td>\n",
       "    </tr>\n",
       "    <tr>\n",
       "      <th>1</th>\n",
       "      <td>-0.771263</td>\n",
       "      <td>-1.117021</td>\n",
       "      <td>0.329665</td>\n",
       "      <td>-1.297686</td>\n",
       "      <td>-1.222429</td>\n",
       "      <td>-0.249133</td>\n",
       "      <td>1.029509</td>\n",
       "      <td>-0.245832</td>\n",
       "      <td>-2.522418</td>\n",
       "      <td>-1.830969</td>\n",
       "      <td>-2.064859</td>\n",
       "      <td>-2.017631</td>\n",
       "      <td>4</td>\n",
       "    </tr>\n",
       "    <tr>\n",
       "      <th>2</th>\n",
       "      <td>-0.782892</td>\n",
       "      <td>-1.116681</td>\n",
       "      <td>0.332771</td>\n",
       "      <td>-1.301822</td>\n",
       "      <td>-1.222428</td>\n",
       "      <td>-0.249431</td>\n",
       "      <td>1.029448</td>\n",
       "      <td>-0.245818</td>\n",
       "      <td>-2.522673</td>\n",
       "      <td>-1.830400</td>\n",
       "      <td>-2.064073</td>\n",
       "      <td>-2.017343</td>\n",
       "      <td>4</td>\n",
       "    </tr>\n",
       "    <tr>\n",
       "      <th>3</th>\n",
       "      <td>-0.780935</td>\n",
       "      <td>-1.116764</td>\n",
       "      <td>0.333700</td>\n",
       "      <td>-1.301852</td>\n",
       "      <td>-1.222430</td>\n",
       "      <td>-0.248636</td>\n",
       "      <td>1.032845</td>\n",
       "      <td>-0.246955</td>\n",
       "      <td>-2.521639</td>\n",
       "      <td>-1.830333</td>\n",
       "      <td>-2.063137</td>\n",
       "      <td>-2.017632</td>\n",
       "      <td>4</td>\n",
       "    </tr>\n",
       "    <tr>\n",
       "      <th>4</th>\n",
       "      <td>-0.774043</td>\n",
       "      <td>-1.116775</td>\n",
       "      <td>0.335206</td>\n",
       "      <td>-1.303118</td>\n",
       "      <td>-1.222429</td>\n",
       "      <td>-0.248701</td>\n",
       "      <td>1.031807</td>\n",
       "      <td>-0.246610</td>\n",
       "      <td>-2.521900</td>\n",
       "      <td>-1.830498</td>\n",
       "      <td>-2.062795</td>\n",
       "      <td>-2.018145</td>\n",
       "      <td>4</td>\n",
       "    </tr>\n",
       "  </tbody>\n",
       "</table>\n",
       "</div>"
      ],
      "text/plain": [
       "    ambient   coolant       u_d       u_q  motor_speed    torque       i_d  \\\n",
       "0 -0.752143 -1.118446  0.327935 -1.297858    -1.222428 -0.250182  1.029572   \n",
       "1 -0.771263 -1.117021  0.329665 -1.297686    -1.222429 -0.249133  1.029509   \n",
       "2 -0.782892 -1.116681  0.332771 -1.301822    -1.222428 -0.249431  1.029448   \n",
       "3 -0.780935 -1.116764  0.333700 -1.301852    -1.222430 -0.248636  1.032845   \n",
       "4 -0.774043 -1.116775  0.335206 -1.303118    -1.222429 -0.248701  1.031807   \n",
       "\n",
       "        i_q        pm  stator_yoke  stator_tooth  stator_winding  profile_id  \n",
       "0 -0.245860 -2.522071    -1.831422     -2.066143       -2.018033           4  \n",
       "1 -0.245832 -2.522418    -1.830969     -2.064859       -2.017631           4  \n",
       "2 -0.245818 -2.522673    -1.830400     -2.064073       -2.017343           4  \n",
       "3 -0.246955 -2.521639    -1.830333     -2.063137       -2.017632           4  \n",
       "4 -0.246610 -2.521900    -1.830498     -2.062795       -2.018145           4  "
      ]
     },
     "execution_count": 3,
     "metadata": {},
     "output_type": "execute_result"
    }
   ],
   "source": [
    "data.head()"
   ]
  },
  {
   "cell_type": "code",
   "execution_count": 4,
   "id": "23d2aeed",
   "metadata": {},
   "outputs": [
    {
     "data": {
      "text/plain": [
       "(998070, 13)"
      ]
     },
     "execution_count": 4,
     "metadata": {},
     "output_type": "execute_result"
    }
   ],
   "source": [
    "data.shape"
   ]
  },
  {
   "cell_type": "code",
   "execution_count": 5,
   "id": "bf3c139a",
   "metadata": {},
   "outputs": [
    {
     "name": "stdout",
     "output_type": "stream",
     "text": [
      "<class 'pandas.core.frame.DataFrame'>\n",
      "RangeIndex: 998070 entries, 0 to 998069\n",
      "Data columns (total 13 columns):\n",
      " #   Column          Non-Null Count   Dtype  \n",
      "---  ------          --------------   -----  \n",
      " 0   ambient         998070 non-null  float64\n",
      " 1   coolant         998070 non-null  float64\n",
      " 2   u_d             998070 non-null  float64\n",
      " 3   u_q             998070 non-null  float64\n",
      " 4   motor_speed     998070 non-null  float64\n",
      " 5   torque          998070 non-null  float64\n",
      " 6   i_d             998070 non-null  float64\n",
      " 7   i_q             998070 non-null  float64\n",
      " 8   pm              998070 non-null  float64\n",
      " 9   stator_yoke     998070 non-null  float64\n",
      " 10  stator_tooth    998070 non-null  float64\n",
      " 11  stator_winding  998070 non-null  float64\n",
      " 12  profile_id      998070 non-null  int64  \n",
      "dtypes: float64(12), int64(1)\n",
      "memory usage: 99.0 MB\n"
     ]
    }
   ],
   "source": [
    "data.info()"
   ]
  },
  {
   "cell_type": "code",
   "execution_count": 6,
   "id": "b5ebee4b",
   "metadata": {},
   "outputs": [
    {
     "data": {
      "text/html": [
       "<div>\n",
       "<style scoped>\n",
       "    .dataframe tbody tr th:only-of-type {\n",
       "        vertical-align: middle;\n",
       "    }\n",
       "\n",
       "    .dataframe tbody tr th {\n",
       "        vertical-align: top;\n",
       "    }\n",
       "\n",
       "    .dataframe thead th {\n",
       "        text-align: right;\n",
       "    }\n",
       "</style>\n",
       "<table border=\"1\" class=\"dataframe\">\n",
       "  <thead>\n",
       "    <tr style=\"text-align: right;\">\n",
       "      <th></th>\n",
       "      <th>ambient</th>\n",
       "      <th>coolant</th>\n",
       "      <th>u_d</th>\n",
       "      <th>u_q</th>\n",
       "      <th>motor_speed</th>\n",
       "      <th>torque</th>\n",
       "      <th>i_d</th>\n",
       "      <th>i_q</th>\n",
       "      <th>pm</th>\n",
       "      <th>stator_yoke</th>\n",
       "      <th>stator_tooth</th>\n",
       "      <th>stator_winding</th>\n",
       "      <th>profile_id</th>\n",
       "    </tr>\n",
       "  </thead>\n",
       "  <tbody>\n",
       "    <tr>\n",
       "      <th>count</th>\n",
       "      <td>998070.000000</td>\n",
       "      <td>998070.000000</td>\n",
       "      <td>998070.000000</td>\n",
       "      <td>998070.000000</td>\n",
       "      <td>998070.000000</td>\n",
       "      <td>998070.000000</td>\n",
       "      <td>998070.000000</td>\n",
       "      <td>998070.000000</td>\n",
       "      <td>998070.000000</td>\n",
       "      <td>998070.000000</td>\n",
       "      <td>998070.000000</td>\n",
       "      <td>998070.000000</td>\n",
       "      <td>998070.000000</td>\n",
       "    </tr>\n",
       "    <tr>\n",
       "      <th>mean</th>\n",
       "      <td>-0.003905</td>\n",
       "      <td>0.004723</td>\n",
       "      <td>0.004780</td>\n",
       "      <td>-0.005690</td>\n",
       "      <td>-0.006336</td>\n",
       "      <td>-0.003333</td>\n",
       "      <td>0.006043</td>\n",
       "      <td>-0.003194</td>\n",
       "      <td>-0.004396</td>\n",
       "      <td>0.000609</td>\n",
       "      <td>-0.002208</td>\n",
       "      <td>-0.003935</td>\n",
       "      <td>50.732001</td>\n",
       "    </tr>\n",
       "    <tr>\n",
       "      <th>std</th>\n",
       "      <td>0.993127</td>\n",
       "      <td>1.002423</td>\n",
       "      <td>0.997878</td>\n",
       "      <td>1.002330</td>\n",
       "      <td>1.001229</td>\n",
       "      <td>0.997907</td>\n",
       "      <td>0.998994</td>\n",
       "      <td>0.997912</td>\n",
       "      <td>0.995686</td>\n",
       "      <td>1.001049</td>\n",
       "      <td>0.999597</td>\n",
       "      <td>0.998343</td>\n",
       "      <td>22.073125</td>\n",
       "    </tr>\n",
       "    <tr>\n",
       "      <th>min</th>\n",
       "      <td>-8.573954</td>\n",
       "      <td>-1.429349</td>\n",
       "      <td>-1.655373</td>\n",
       "      <td>-1.861463</td>\n",
       "      <td>-1.371529</td>\n",
       "      <td>-3.345953</td>\n",
       "      <td>-3.245874</td>\n",
       "      <td>-3.341639</td>\n",
       "      <td>-2.631991</td>\n",
       "      <td>-1.834688</td>\n",
       "      <td>-2.066143</td>\n",
       "      <td>-2.019973</td>\n",
       "      <td>4.000000</td>\n",
       "    </tr>\n",
       "    <tr>\n",
       "      <th>25%</th>\n",
       "      <td>-0.599385</td>\n",
       "      <td>-1.037925</td>\n",
       "      <td>-0.826359</td>\n",
       "      <td>-0.927390</td>\n",
       "      <td>-0.951892</td>\n",
       "      <td>-0.266917</td>\n",
       "      <td>-0.756296</td>\n",
       "      <td>-0.257269</td>\n",
       "      <td>-0.672308</td>\n",
       "      <td>-0.747265</td>\n",
       "      <td>-0.761951</td>\n",
       "      <td>-0.725622</td>\n",
       "      <td>32.000000</td>\n",
       "    </tr>\n",
       "    <tr>\n",
       "      <th>50%</th>\n",
       "      <td>0.266157</td>\n",
       "      <td>-0.177187</td>\n",
       "      <td>0.267542</td>\n",
       "      <td>-0.099818</td>\n",
       "      <td>-0.140246</td>\n",
       "      <td>-0.187246</td>\n",
       "      <td>0.213935</td>\n",
       "      <td>-0.190076</td>\n",
       "      <td>0.094367</td>\n",
       "      <td>-0.057226</td>\n",
       "      <td>0.005085</td>\n",
       "      <td>0.006536</td>\n",
       "      <td>56.000000</td>\n",
       "    </tr>\n",
       "    <tr>\n",
       "      <th>75%</th>\n",
       "      <td>0.686675</td>\n",
       "      <td>0.650709</td>\n",
       "      <td>0.358491</td>\n",
       "      <td>0.852625</td>\n",
       "      <td>0.853584</td>\n",
       "      <td>0.547171</td>\n",
       "      <td>1.013975</td>\n",
       "      <td>0.499260</td>\n",
       "      <td>0.680691</td>\n",
       "      <td>0.697344</td>\n",
       "      <td>0.772239</td>\n",
       "      <td>0.725660</td>\n",
       "      <td>68.000000</td>\n",
       "    </tr>\n",
       "    <tr>\n",
       "      <th>max</th>\n",
       "      <td>2.967117</td>\n",
       "      <td>2.649032</td>\n",
       "      <td>2.274734</td>\n",
       "      <td>1.793498</td>\n",
       "      <td>2.024164</td>\n",
       "      <td>3.016971</td>\n",
       "      <td>1.060937</td>\n",
       "      <td>2.914185</td>\n",
       "      <td>2.917456</td>\n",
       "      <td>2.449158</td>\n",
       "      <td>2.326668</td>\n",
       "      <td>2.653781</td>\n",
       "      <td>81.000000</td>\n",
       "    </tr>\n",
       "  </tbody>\n",
       "</table>\n",
       "</div>"
      ],
      "text/plain": [
       "             ambient        coolant            u_d            u_q  \\\n",
       "count  998070.000000  998070.000000  998070.000000  998070.000000   \n",
       "mean       -0.003905       0.004723       0.004780      -0.005690   \n",
       "std         0.993127       1.002423       0.997878       1.002330   \n",
       "min        -8.573954      -1.429349      -1.655373      -1.861463   \n",
       "25%        -0.599385      -1.037925      -0.826359      -0.927390   \n",
       "50%         0.266157      -0.177187       0.267542      -0.099818   \n",
       "75%         0.686675       0.650709       0.358491       0.852625   \n",
       "max         2.967117       2.649032       2.274734       1.793498   \n",
       "\n",
       "         motor_speed         torque            i_d            i_q  \\\n",
       "count  998070.000000  998070.000000  998070.000000  998070.000000   \n",
       "mean       -0.006336      -0.003333       0.006043      -0.003194   \n",
       "std         1.001229       0.997907       0.998994       0.997912   \n",
       "min        -1.371529      -3.345953      -3.245874      -3.341639   \n",
       "25%        -0.951892      -0.266917      -0.756296      -0.257269   \n",
       "50%        -0.140246      -0.187246       0.213935      -0.190076   \n",
       "75%         0.853584       0.547171       1.013975       0.499260   \n",
       "max         2.024164       3.016971       1.060937       2.914185   \n",
       "\n",
       "                  pm    stator_yoke   stator_tooth  stator_winding  \\\n",
       "count  998070.000000  998070.000000  998070.000000   998070.000000   \n",
       "mean       -0.004396       0.000609      -0.002208       -0.003935   \n",
       "std         0.995686       1.001049       0.999597        0.998343   \n",
       "min        -2.631991      -1.834688      -2.066143       -2.019973   \n",
       "25%        -0.672308      -0.747265      -0.761951       -0.725622   \n",
       "50%         0.094367      -0.057226       0.005085        0.006536   \n",
       "75%         0.680691       0.697344       0.772239        0.725660   \n",
       "max         2.917456       2.449158       2.326668        2.653781   \n",
       "\n",
       "          profile_id  \n",
       "count  998070.000000  \n",
       "mean       50.732001  \n",
       "std        22.073125  \n",
       "min         4.000000  \n",
       "25%        32.000000  \n",
       "50%        56.000000  \n",
       "75%        68.000000  \n",
       "max        81.000000  "
      ]
     },
     "execution_count": 6,
     "metadata": {},
     "output_type": "execute_result"
    }
   ],
   "source": [
    "data.describe()"
   ]
  },
  {
   "cell_type": "markdown",
   "id": "2436bacf",
   "metadata": {},
   "source": [
    "### Understanding the Features\n",
    "\n",
    "     ambient--->Ambient Temp(The basic ambient temperature rating point of nearly all electric motors is 40° C.) Can Say Room Temp\n",
    "     coolant---->Antifreeze ensures that your engine temperature remains stable to perform well in all climates.The coolant temperature for the battery must always be kept between 15 °C and 30 °C.\n",
    "     u_d---->Direct Axis --Flux linkage component of current is aligned along the d axis(Voltage Component)\n",
    "     u_q----?Quardartic axis --- torque component of current is aligned along the q axis((Voltage Component)\n",
    "     Motor_Speed-->Speed of the motor\n",
    "     torque  ---->the measure of the force that can cause an object to rotate about an axis. in other words amount of force\n",
    "     i_d,i_q ----> Current quardintes\n",
    "     pm---->Permanent Magnet surface temperature representing the rotor temperature. This was measured with an infrared thermography unit.\n",
    "     stator_yoke--->The outer frame of a dc machine -- temperature is measured with a thermal sensor.\n",
    "     Stator tooth --->temperature is measured with a thermal sensor.\n",
    "     Stator winding ---->temperature measured with a thermal sensor.\n",
    "     profile_id--->Each measurement session has a unique ID. Make sure not to try to estimate from one session onto the other as they are strongly independent.\n",
    "\n",
    "     "
   ]
  },
  {
   "cell_type": "markdown",
   "id": "f62554d6",
   "metadata": {},
   "source": [
    "### Exploratory Data Analysis"
   ]
  },
  {
   "cell_type": "code",
   "execution_count": 7,
   "id": "d1d197c2",
   "metadata": {},
   "outputs": [
    {
     "data": {
      "text/plain": [
       "ambient           0\n",
       "coolant           0\n",
       "u_d               0\n",
       "u_q               0\n",
       "motor_speed       0\n",
       "torque            0\n",
       "i_d               0\n",
       "i_q               0\n",
       "pm                0\n",
       "stator_yoke       0\n",
       "stator_tooth      0\n",
       "stator_winding    0\n",
       "profile_id        0\n",
       "dtype: int64"
      ]
     },
     "execution_count": 7,
     "metadata": {},
     "output_type": "execute_result"
    }
   ],
   "source": [
    "data.isnull().sum()"
   ]
  },
  {
   "cell_type": "code",
   "execution_count": 8,
   "id": "745db4cf",
   "metadata": {},
   "outputs": [
    {
     "data": {
      "text/plain": [
       "0"
      ]
     },
     "execution_count": 8,
     "metadata": {},
     "output_type": "execute_result"
    }
   ],
   "source": [
    "data.duplicated().sum()"
   ]
  },
  {
   "cell_type": "raw",
   "id": "43d2c592",
   "metadata": {},
   "source": [
    "# Histogram\n",
    "\n",
    "# Create subplots\n",
    "fig, axes = plt.subplots(nrows=7, ncols=2, figsize=(12, 24))\n",
    "axes = axes.flatten()\n",
    "\n",
    "# Plot KDE for each feature\n",
    "for i, col in enumerate(data.columns):\n",
    "    sns.histplot(data[col], ax=axes[i], color='green',kde=True)\n",
    "    axes[i].set_title(col)\n",
    "    axes[i].set_ylabel('Density')\n",
    "    \n",
    "# Adjust the layout\n",
    "plt.tight_layout()\n",
    "\n",
    "# Display the plot\n",
    "plt.show()"
   ]
  },
  {
   "cell_type": "markdown",
   "id": "095363b9",
   "metadata": {},
   "source": [
    "I observe that zero value appears most frequently in columns representing coordinates for current and voltage\n",
    "\n",
    "Coolant and ambient are measured in the same units. The highest peak of coolant is at the value 20 and the highest peak of of ambient is at the value 26. Values 20, 23 and 25 of ambient and 50 of coolant also have peaks"
   ]
  },
  {
   "cell_type": "raw",
   "id": "863f8d86",
   "metadata": {},
   "source": [
    "# Plot the KDE plot\n",
    "\n",
    "# Create subplots\n",
    "fig, axes = plt.subplots(nrows=7, ncols=2, figsize=(12, 24))\n",
    "axes = axes.flatten()\n",
    "\n",
    "# Plot KDE for each feature\n",
    "for i, col in enumerate(data.columns):\n",
    "    sns.kdeplot(data[col], ax=axes[i], color='purple')\n",
    "    axes[i].set_title(col)\n",
    "    axes[i].set_ylabel('Density')\n",
    "    \n",
    "\n",
    "# Adjust the layout\n",
    "plt.tight_layout()\n",
    "\n",
    "# Display the plot\n",
    "plt.show()"
   ]
  },
  {
   "cell_type": "raw",
   "id": "051dbf21",
   "metadata": {},
   "source": [
    "sns.pairplot(data)"
   ]
  },
  {
   "cell_type": "raw",
   "id": "e2064aaf",
   "metadata": {},
   "source": [
    "'''\n",
    "# Create subplots\n",
    "fig, axes = plt.subplots(nrows=7, ncols=2, figsize=(12, 24))\n",
    "axes = axes.flatten()\n",
    "\n",
    "# Plot KDE for each feature\n",
    "for i, col in enumerate(data.columns):\n",
    "    sns.boxplot(data[col], ax=axes[i], color='red')\n",
    "    axes[i].set_title(col)\n",
    "    axes[i].set_ylabel('Density')\n",
    "    \n",
    "\n",
    "# Adjust the layout\n",
    "plt.tight_layout()\n",
    "\n",
    "# Display the plot\n",
    "plt.show()\n",
    "\n",
    "'''"
   ]
  },
  {
   "cell_type": "markdown",
   "id": "274ad598",
   "metadata": {},
   "source": [
    "we can see pm,i_q,torque,u_d,ambient has oulier which will deal later"
   ]
  },
  {
   "cell_type": "code",
   "execution_count": 9,
   "id": "eafc7901",
   "metadata": {},
   "outputs": [
    {
     "data": {
      "text/plain": [
       "<AxesSubplot:>"
      ]
     },
     "execution_count": 9,
     "metadata": {},
     "output_type": "execute_result"
    },
    {
     "data": {
      "image/png": "[encoded data removed]",
      "text/plain": [
       "<Figure size 1000x700 with 2 Axes>"
      ]
     },
     "metadata": {},
     "output_type": "display_data"
    }
   ],
   "source": [
    "plt.figure(figsize=(10,7))\n",
    "sns.heatmap(data.corr(),annot=True,cmap='viridis')"
   ]
  },
  {
   "cell_type": "markdown",
   "id": "9319dccb",
   "metadata": {},
   "source": [
    "     \n",
    "### Observations:\n",
    "\n",
    "     stator_tooth, stator_winding and stator_yoke are correlated between themselfs\n",
    "     \n",
    "     torque has the maximum correlation coeff  1 with i_q, and strong negative correlation with u_d\n",
    "     \n",
    "     motor_speed has strong positive correlation with u_q and strong negative correlation with i_d\n",
    "     \n",
    "     stator_yoke is significantly correlated with coolant and less significantly with ambient\n",
    "     \n",
    "     stator_tooth and stator_winding have positive correlation with coolant and negative correlation with i_d\n",
    "     \n",
    "     i_q and u_d have strong negative correlation"
   ]
  },
  {
   "cell_type": "raw",
   "id": "387eec80",
   "metadata": {},
   "source": [
    "# Visualizing the highly coreleated features\n",
    "\n",
    "fig, axes = plt.subplots(nrows=1, ncols=2)\n",
    "\n",
    "# Plot the first scatterplot\n",
    "axes[0].scatter(data['torque'],data['i_q'],c='Yellow')\n",
    "axes[0].set_xlabel(\"Torque\")\n",
    "axes[0].set_ylabel(\"Current Component\")\n",
    "\n",
    "# Plot the second scatterplot\n",
    "axes[1].scatter(data['motor_speed'], data['u_q'],c='Cyan')\n",
    "axes[1].set_xlabel(\"Motor Speed\")\n",
    "axes[1].set_ylabel(\"Voltage Component\")\n",
    "\n",
    "# Adjust the layout of subplots\n",
    "plt.tight_layout()\n",
    "\n",
    "# Display the plot\n",
    "plt.show()"
   ]
  },
  {
   "cell_type": "code",
   "execution_count": 10,
   "id": "08916d09",
   "metadata": {},
   "outputs": [],
   "source": [
    "def observe_3d_relationships(variable_x, variable_y, variable_z, ax):\n",
    "\n",
    "    ax.set_xlabel('variable_x')\n",
    "    ax.set_ylabel('variable_y')\n",
    "    ax.set_zlabel('variable_z')\n",
    "\n",
    "    x = data[variable_x]\n",
    "    y = data[variable_y]\n",
    "    z = data[variable_z]\n",
    "\n",
    "    ax.scatter(x, y, z)"
   ]
  },
  {
   "cell_type": "raw",
   "id": "ff2e305d",
   "metadata": {},
   "source": [
    "fig = plt.figure(figsize=(20,20))\n",
    "fig.subplots_adjust(hspace=0.2, wspace=0.2)\n",
    "\n",
    "# =============\n",
    "# First subplot\n",
    "# =============\n",
    "ax = fig.add_subplot(3, 2, 1, projection='3d')\n",
    "observe_3d_relationships('u_d', 'torque', 'i_q', ax)\n",
    "\n",
    "# =============\n",
    "# Second subplot\n",
    "# =============\n",
    "ax = fig.add_subplot(3, 2, 2, projection='3d')\n",
    "observe_3d_relationships('i_d', 'motor_speed', 'u_q', ax)\n",
    "\n",
    "# =============\n",
    "# Third subplot\n",
    "# =============\n",
    "ax = fig.add_subplot(3, 2, 3, projection='3d')\n",
    "observe_3d_relationships('i_d', 'stator_tooth', 'coolant', ax)\n",
    "\n",
    "# =============\n",
    "# Forth subplot\n",
    "# =============\n",
    "ax = fig.add_subplot(3, 2, 4, projection='3d')\n",
    "observe_3d_relationships('i_d', 'stator_winding', 'coolant', ax)\n",
    "\n",
    "# =============\n",
    "# Fifth subplot\n",
    "# =============\n",
    "ax = fig.add_subplot(3, 2, 5, projection='3d')\n",
    "observe_3d_relationships('ambient', 'stator_yoke', 'coolant', ax)\n",
    "\n",
    "# =============\n",
    "# Sixth subplot\n",
    "# =============\n",
    "ax = fig.add_subplot(3, 2, 6, projection='3d')\n",
    "observe_3d_relationships('stator_tooth', 'stator_winding', 'stator_yoke', ax)\n",
    "\n",
    "plt.show()"
   ]
  },
  {
   "cell_type": "code",
   "execution_count": 11,
   "id": "1169c8e6",
   "metadata": {},
   "outputs": [
    {
     "data": {
      "text/plain": [
       "<AxesSubplot:>"
      ]
     },
     "execution_count": 11,
     "metadata": {},
     "output_type": "execute_result"
    },
    {
     "data": {
      "image/png": "[encoded data removed]",
      "text/plain": [
       "<Figure size 1000x800 with 1 Axes>"
      ]
     },
     "metadata": {},
     "output_type": "display_data"
    }
   ],
   "source": [
    "plt.figure(figsize=(10,8))\n",
    "data['profile_id'].value_counts().sort_values().plot(kind='bar')"
   ]
  },
  {
   "cell_type": "markdown",
   "id": "c7ba9fe4",
   "metadata": {},
   "source": [
    "profilie_id 66,65,6,20 have most number of measurement recorded"
   ]
  },
  {
   "cell_type": "raw",
   "id": "59cb7ba0",
   "metadata": {},
   "source": [
    "for i in data.columns:\n",
    "    sns.distplot(data[i],color='r')\n",
    "    sns.boxplot(data[i],color='g')\n",
    "    plt.vlines(data[i].mean(),ymin = -1,ymax = 1,color = 'b')\n",
    "    plt.show()\n"
   ]
  },
  {
   "cell_type": "markdown",
   "id": "53b19cf5",
   "metadata": {},
   "source": [
    "As we can see from the the above plots, the mean and median for most of the plots are very close to each other. So the data seems to have low skewness for almost all variables."
   ]
  },
  {
   "cell_type": "markdown",
   "id": "b0008a40",
   "metadata": {},
   "source": [
    "## Checking Skewness and kurtosis numerically"
   ]
  },
  {
   "cell_type": "code",
   "execution_count": 12,
   "id": "03cefd52",
   "metadata": {},
   "outputs": [
    {
     "name": "stdout",
     "output_type": "stream",
     "text": [
      "ambient :\n",
      " Skewness: -0.8489138249162917 :\n",
      " Kurtosis: 0.822426565610952 \n",
      "\n",
      "coolant :\n",
      " Skewness: 0.6282471402211814 :\n",
      " Kurtosis: -0.7599463836890359 \n",
      "\n",
      "u_d :\n",
      " Skewness: 0.19464403446801343 :\n",
      " Kurtosis: -0.5228583948458345 \n",
      "\n",
      "u_q :\n",
      " Skewness: 0.19988508399235655 :\n",
      " Kurtosis: -1.271315718489302 \n",
      "\n",
      "motor_speed :\n",
      " Skewness: 0.3333048472645522 :\n",
      " Kurtosis: -1.1669369999151742 \n",
      "\n",
      "torque :\n",
      " Skewness: -0.042660488385365035 :\n",
      " Kurtosis: 0.7793178684855206 \n",
      "\n",
      "i_d :\n",
      " Skewness: -0.62257797275636 :\n",
      " Kurtosis: -0.754099941976742 \n",
      "\n",
      "i_q :\n",
      " Skewness: -0.07570538427941409 :\n",
      " Kurtosis: 0.7849738434370379 \n",
      "\n",
      "pm :\n",
      " Skewness: -0.2329033950928521 :\n",
      " Kurtosis: -0.3492131725408121 \n",
      "\n",
      "stator_yoke :\n",
      " Skewness: 0.2572973686790802 :\n",
      " Kurtosis: -0.7289625925727061 \n",
      "\n",
      "stator_tooth :\n",
      " Skewness: -0.0615332410896644 :\n",
      " Kurtosis: -0.7799869810017213 \n",
      "\n",
      "stator_winding :\n",
      " Skewness: -0.02805511318661168 :\n",
      " Kurtosis: -0.7284159974661613 \n",
      "\n",
      "profile_id :\n",
      " Skewness: -0.6284123886037299 :\n",
      " Kurtosis: -0.6526614359734477 \n",
      "\n"
     ]
    }
   ],
   "source": [
    "import scipy.stats as stats\n",
    "\n",
    "for i in data.columns:\n",
    "    print(i,':\\n Skewness:',data[i].skew(),':\\n Kurtosis:',data[i].kurt(),'\\n')"
   ]
  },
  {
   "cell_type": "code",
   "execution_count": 13,
   "id": "63f8cd90",
   "metadata": {},
   "outputs": [],
   "source": [
    "#!pip install autoviz"
   ]
  },
  {
   "cell_type": "code",
   "execution_count": 14,
   "id": "8b730d4a",
   "metadata": {},
   "outputs": [],
   "source": [
    "#!pip install xlrd # Autoviz class - Dependency "
   ]
  },
  {
   "cell_type": "raw",
   "id": "e0db0a84",
   "metadata": {
    "scrolled": true
   },
   "source": [
    "%matplotlib inline\n",
    "#Generating AutoViz Report #this is the default command when using a file for the dataset\n",
    "from autoviz.AutoViz_Class import AutoViz_Class\n",
    "AV = AutoViz_Class()\n",
    "filename= \"\"\n",
    "sep = \",\"\n",
    "dft = AV.AutoViz(\n",
    "    filename,\n",
    "    sep=\",\",\n",
    "    depVar=\"motor_speed\",\n",
    "    dfte=data,\n",
    "    header=0,\n",
    "    verbose=2,\n",
    "    lowess=False,\n",
    "    chart_format=\"svg\",\n",
    "    max_rows_analyzed=1000000,\n",
    "    max_cols_analyzed=13,\n",
    "    \n",
    ")"
   ]
  },
  {
   "cell_type": "code",
   "execution_count": null,
   "id": "c663ef1c",
   "metadata": {},
   "outputs": [],
   "source": []
  },
  {
   "cell_type": "raw",
   "id": "bdf018ef",
   "metadata": {},
   "source": [
    "%matplotlib inline\n",
    "from autoviz.AutoViz_Class import AutoViz_Class\n",
    "import os\n",
    "\n",
    "# Create an instance of AutoViz_Class\n",
    "AV = AutoViz_Class()\n",
    "\n",
    "# Generate visualizations without saving the plots to the specified directory\n",
    "dft = AV.AutoViz(\n",
    "    '',\n",
    "    sep=\",\",\n",
    "    depVar=\"motor_speed\",\n",
    "    dfte=data,\n",
    "    header=0,\n",
    "    verbose=0,\n",
    "    lowess=False,\n",
    "    chart_format=\"png\",\n",
    "    max_rows_analyzed=1000000,\n",
    "    max_cols_analyzed=13\n",
    ")\n",
    "\n",
    "\n"
   ]
  },
  {
   "cell_type": "raw",
   "id": "673c9731",
   "metadata": {},
   "source": [
    "# Specify the directory where you want to save the plots\n",
    "save_plot_dir = r\"D:\\ExcelR Data Science\\Project\\AutoViz_Plots\"  # Use a raw string (r\"\")\n",
    "\n",
    "# Check if the save_plot_dir exists, if not, create it\n",
    "if not os.path.exists(save_plot_dir):\n",
    "    os.makedirs(save_plot_dir)\n",
    "\n",
    "# Save all the plots from the visualization report\n",
    "for key, value in dft.items():\n",
    "    if hasattr(value, 'savefig'):  # Check if the item is a plot and has a savefig method\n",
    "        plt.figure(figsize=(10, 6))  # Set the figure size (optional)\n",
    "        value.get_figure().savefig(os.path.join(save_plot_dir, f\"{key}.png\"), bbox_inches='tight')\n",
    "\n",
    "# Close all the figures to release memory (optional)\n",
    "plt.close('all')"
   ]
  },
  {
   "cell_type": "code",
   "execution_count": 15,
   "id": "1dd22388",
   "metadata": {},
   "outputs": [],
   "source": [
    "# OUTLIER TREATMENT\n",
    "df = pd.read_csv(r\"D:\\ExcelR Data Science\\Project\\temperature_data.csv\")\n",
    "df1=df.copy()\n",
    "\n",
    "# Function to detect outliers using Z-score\n",
    "def detect_outliers_zscore(data):\n",
    "    threshold = 3\n",
    "    z_scores = np.abs((data - data.mean()) / data.std())\n",
    "    return z_scores > threshold\n",
    "\n",
    "# Loop through each column (except 'profile_id') to detect outliers and impute with mean\n",
    "for col in df1.columns:\n",
    "    if col != 'profile_id':\n",
    "        outliers = detect_outliers_zscore(df1[col])\n",
    "        if outliers.any():\n",
    "            df1[col] = np.where(outliers, df1[col].mean(), df1[col])\n",
    "\n",
    "# Save the modified DataFrame to a new CSV file (if needed)\n",
    "# Replace 'imputed_dataset.csv' with the desired filename\n",
    "df.to_csv('imputed_dataset.csv', index=False)\n"
   ]
  },
  {
   "cell_type": "code",
   "execution_count": 16,
   "id": "81269e14",
   "metadata": {},
   "outputs": [
    {
     "name": "stdout",
     "output_type": "stream",
     "text": [
      "       Column Name  Percentage of Outliers Imputed\n",
      "0          ambient                        0.276534\n",
      "1          coolant                        0.000000\n",
      "2              u_d                        0.000000\n",
      "3              u_q                        0.000000\n",
      "4      motor_speed                        0.000000\n",
      "5           torque                        0.512890\n",
      "6              i_d                        0.054405\n",
      "7              i_q                        0.257597\n",
      "8               pm                        0.000000\n",
      "9      stator_yoke                        0.000000\n",
      "10    stator_tooth                        0.000000\n",
      "11  stator_winding                        0.000000\n",
      "12      profile_id                        0.000000\n"
     ]
    }
   ],
   "source": [
    "# Calculate the difference between the original DataFrame and the imputed DataFrame\n",
    "difference_df = df - df1\n",
    "\n",
    "# Check if the difference is non-zero to identify columns where outliers were imputed\n",
    "outliers_imputed_mask = difference_df.abs() > 0\n",
    "\n",
    "# Calculate the percentage of outliers imputed for each column\n",
    "percentage_outliers_imputed = (outliers_imputed_mask.sum() / len(df)) * 100\n",
    "\n",
    "# Create a DataFrame to display the results\n",
    "results_df = pd.DataFrame({\n",
    "    'Column Name': percentage_outliers_imputed.index,\n",
    "    'Percentage of Outliers Imputed': percentage_outliers_imputed.values\n",
    "})\n",
    "\n",
    "print(results_df)"
   ]
  },
  {
   "cell_type": "markdown",
   "id": "c4c897db",
   "metadata": {},
   "source": [
    "Based on the results of the percentage of outliers imputed for each column,had a very low percentage of outliers imputed. The majority of the columns had a percentage of 0%, indicating that no outliers were imputed for those features.\n",
    "\n",
    "The columns 'ambient', 'torque', 'i_d', and 'i_q' had small percentages of outliers imputed, but still relatively low, which suggests that only a small portion of their data was modified due to the imputation process.\n",
    "\n",
    "columns 'coolant', 'u_d', 'u_q', 'motor_speed', 'pm', 'stator_yoke', 'stator_tooth', 'stator_winding', and 'profile_id' had no outliers imputed, meaning that their data remained unchanged during the imputation process.\n",
    "\n",
    "Overall, it seems that the outlier imputation process was conservative and had a minimal impact on the dataset, which is a positive outcome. However, it's essential to interpret these results in the context of your specific analysis and understand the implications of the imputation on your data and any subsequent analyses."
   ]
  },
  {
   "cell_type": "raw",
   "id": "e77ea031",
   "metadata": {},
   "source": [
    "\n",
    "# List of features for visualization\n",
    "features = df.columns.tolist()\n",
    "\n",
    "# Calculate the number of features\n",
    "num_features = len(features)\n",
    "\n",
    "# Create sub=bplots for all features before and after imputation\n",
    "fig, axes = plt.subplots(num_features, 2, figsize=(16, 4*num_features))\n",
    "\n",
    "for i, feature in enumerate(features):\n",
    "    # Plot original data (before imputation)\n",
    "    sns.kdeplot(df[feature], label=feature, ax=axes[i, 0])\n",
    "    axes[i, 0].set_title(f'Before Imputation - {feature}')\n",
    "    axes[i, 0].legend()\n",
    "\n",
    "    # Plot imputed data (after imputation)\n",
    "    sns.kdeplot(df1[feature], label=feature, ax=axes[i, 1],color='orange')\n",
    "    axes[i, 1].set_title(f'After Imputation - {feature}')\n",
    "    axes[i, 1].legend()\n",
    "\n",
    "plt.tight_layout()\n",
    "plt.show()\n"
   ]
  },
  {
   "cell_type": "code",
   "execution_count": 17,
   "id": "538639c6",
   "metadata": {},
   "outputs": [
    {
     "name": "stdout",
     "output_type": "stream",
     "text": [
      "<class 'pandas.core.frame.DataFrame'>\n",
      "RangeIndex: 998070 entries, 0 to 998069\n",
      "Data columns (total 13 columns):\n",
      " #   Column          Non-Null Count   Dtype  \n",
      "---  ------          --------------   -----  \n",
      " 0   ambient         998070 non-null  float64\n",
      " 1   coolant         998070 non-null  float64\n",
      " 2   u_d             998070 non-null  float64\n",
      " 3   u_q             998070 non-null  float64\n",
      " 4   motor_speed     998070 non-null  float64\n",
      " 5   torque          998070 non-null  float64\n",
      " 6   i_d             998070 non-null  float64\n",
      " 7   i_q             998070 non-null  float64\n",
      " 8   pm              998070 non-null  float64\n",
      " 9   stator_yoke     998070 non-null  float64\n",
      " 10  stator_tooth    998070 non-null  float64\n",
      " 11  stator_winding  998070 non-null  float64\n",
      " 12  profile_id      998070 non-null  int64  \n",
      "dtypes: float64(12), int64(1)\n",
      "memory usage: 99.0 MB\n"
     ]
    }
   ],
   "source": [
    "df1.info()"
   ]
  },
  {
   "cell_type": "code",
   "execution_count": 18,
   "id": "8a86d871",
   "metadata": {},
   "outputs": [],
   "source": [
    "x=df1.drop(['motor_speed','stator_winding','profile_id'],axis=1)\n",
    "y=df1['motor_speed']"
   ]
  },
  {
   "cell_type": "code",
   "execution_count": 19,
   "id": "485a7960",
   "metadata": {},
   "outputs": [],
   "source": [
    "from sklearn.preprocessing import StandardScaler\n",
    "from sklearn.model_selection import train_test_split\n",
    "from sklearn.linear_model import LinearRegression\n",
    "from sklearn.metrics import mean_squared_error,mean_absolute_error,r2_score\n",
    "from xgboost import XGBRegressor\n",
    "from sklearn.tree import DecisionTreeRegressor\n",
    "from sklearn.ensemble import RandomForestRegressor"
   ]
  },
  {
   "cell_type": "code",
   "execution_count": 20,
   "id": "b0d3a81e",
   "metadata": {},
   "outputs": [],
   "source": [
    "sd=StandardScaler()\n",
    "x=sd.fit_transform(x)"
   ]
  },
  {
   "cell_type": "code",
   "execution_count": 21,
   "id": "15db998f",
   "metadata": {},
   "outputs": [],
   "source": [
    "x_train,x_test,y_train,y_test=train_test_split(x,y,test_size=0.3,random_state=42)"
   ]
  },
  {
   "cell_type": "code",
   "execution_count": 22,
   "id": "b4ae8e43",
   "metadata": {},
   "outputs": [],
   "source": [
    "lm=LinearRegression()\n",
    "lm.fit(x_train,y_train)\n",
    "lm_pred=lm.predict(x_test)"
   ]
  },
  {
   "cell_type": "code",
   "execution_count": 23,
   "id": "b228ad9b",
   "metadata": {},
   "outputs": [
    {
     "name": "stdout",
     "output_type": "stream",
     "text": [
      "MSE: 0.07883450785738827\n",
      "MAE: 0.20882597787815801\n",
      "R2_Score: 0.9213015288316063\n"
     ]
    }
   ],
   "source": [
    "print(\"MSE:\",mean_squared_error(y_test,lm_pred))\n",
    "print(\"MAE:\",mean_absolute_error(y_test,lm_pred))\n",
    "print(\"R2_Score:\",r2_score(y_test,lm_pred))"
   ]
  },
  {
   "cell_type": "code",
   "execution_count": 24,
   "id": "87c39c34",
   "metadata": {},
   "outputs": [
    {
     "name": "stdout",
     "output_type": "stream",
     "text": [
      "MSE: 0.0004725622667046784\n",
      "MAE: 0.010913157535925904\n",
      "R2_Score: 0.999528253185917\n"
     ]
    }
   ],
   "source": [
    "XG=XGBRegressor()\n",
    "XG.fit(x_train,y_train)\n",
    "XG_pred=XG.predict(x_test)\n",
    "\n",
    "print(\"MSE:\",mean_squared_error(y_test,XG_pred))\n",
    "print(\"MAE:\",mean_absolute_error(y_test,XG_pred))\n",
    "print(\"R2_Score:\",r2_score(y_test,XG_pred))"
   ]
  },
  {
   "cell_type": "code",
   "execution_count": 25,
   "id": "15ac2997",
   "metadata": {},
   "outputs": [
    {
     "name": "stdout",
     "output_type": "stream",
     "text": [
      "MSE: 0.00034915512778575\n",
      "MAE: 0.006244343364162703\n",
      "R2_Score: 0.9996514473736926\n"
     ]
    }
   ],
   "source": [
    "dt=DecisionTreeRegressor()\n",
    "dt.fit(x_train,y_train)\n",
    "dt_pred=dt.predict(x_test)\n",
    "\n",
    "print(\"MSE:\",mean_squared_error(y_test,dt_pred))\n",
    "print(\"MAE:\",mean_absolute_error(y_test,dt_pred))\n",
    "print(\"R2_Score:\",r2_score(y_test,dt_pred))"
   ]
  },
  {
   "cell_type": "code",
   "execution_count": 26,
   "id": "ec670ec8",
   "metadata": {},
   "outputs": [
    {
     "name": "stdout",
     "output_type": "stream",
     "text": [
      "MSE: 0.00017586874719312872\n",
      "MAE: 0.00363553953589255\n",
      "R2_Score: 0.9998244347316096\n"
     ]
    }
   ],
   "source": [
    "rf=RandomForestRegressor()\n",
    "rf.fit(x_train,y_train)\n",
    "rf_pred=rf.predict(x_test)\n",
    "\n",
    "print(\"MSE:\",mean_squared_error(y_test,rf_pred))\n",
    "print(\"MAE:\",mean_absolute_error(y_test,rf_pred))\n",
    "print(\"R2_Score:\",r2_score(y_test,rf_pred))"
   ]
  },
  {
   "cell_type": "code",
   "execution_count": 27,
   "id": "b4f4d895",
   "metadata": {},
   "outputs": [],
   "source": [
    "model=['Linear','DecisiionTree','RandomForest','XGBOOST']\n",
    "accuracy=[r2_score(y_test,lm_pred),r2_score(y_test,dt_pred),r2_score(y_test,rf_pred),r2_score(y_test,XG_pred)]\n",
    "acc=pd.DataFrame({'MLModel':model,\n",
    "                 'Accuracy':accuracy})"
   ]
  },
  {
   "cell_type": "code",
   "execution_count": 29,
   "id": "144f7123",
   "metadata": {},
   "outputs": [
    {
     "name": "stdout",
     "output_type": "stream",
     "text": [
      "         MLModel  Accuracy\n",
      "2   RandomForest  0.999824\n",
      "1  DecisiionTree  0.999651\n",
      "3        XGBOOST  0.999528\n",
      "0         Linear  0.921302\n"
     ]
    }
   ],
   "source": [
    "sorted_df=acc.sort_values(by='Accuracy',ascending=False)\n",
    "print(sorted_df)"
   ]
  }
 ],
 "metadata": {
  "kernelspec": {
   "display_name": "Python 3 (ipykernel)",
   "language": "python",
   "name": "python3"
  },
  "language_info": {
   "codemirror_mode": {
    "name": "ipython",
    "version": 3
   },
   "file_extension": ".py",
   "mimetype": "text/x-python",
   "name": "python",
   "nbconvert_exporter": "python",
   "pygments_lexer": "ipython3",
   "version": "3.9.13"
  }
 },
 "nbformat": 4,
 "nbformat_minor": 5
}
